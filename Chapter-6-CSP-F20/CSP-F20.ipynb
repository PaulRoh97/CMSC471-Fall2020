{
 "cells": [
  {
   "cell_type": "markdown",
   "metadata": {
    "slideshow": {
     "slide_type": "slide"
    }
   },
   "source": [
    "#### <h1><center>CMSC 471: Introduction to Artificial Intelligence</center></h1>\n",
    "\n",
    "<center><img src=\"img/title.jpeg\" align=\"center\"/></center>\n",
    "\n",
    "\n",
    "<h3 style=\"color:blue;\"><center>Instructor: Fereydoon Vafaei</center></h3>\n",
    "\n",
    "\n",
    "<h5 style=\"color:purple;\"><center>Chapter 6 - Constraint Satisfaction Problems CSP</center></h5>\n",
    "\n",
    "<center><img src=\"img/UMBC_logo.png\" align=\"center\"/></center>"
   ]
  },
  {
   "cell_type": "markdown",
   "metadata": {
    "slideshow": {
     "slide_type": "slide"
    }
   },
   "source": [
    "<h1><center>Agenda</center></h1>\n",
    "\n",
    "- <b> Chapter 6: Constraint Satisfaction Problems</b>\n",
    "- <b> Learning Objectives:</b>\n",
    "    * CSP Definition & CSP Motivation\n",
    "    * CSP Solving:\n",
    "        - Min-Conflicts Algorithm\n",
    "        - Backtracking Algorithm\n",
    "        - Improving Backtracking Efficiency\n",
    "    * Local Consistency\n",
    "        * Node Consistency\n",
    "        * Arc Consistency & AC3 Algorithm\n",
    "        * Path Consistency\n",
    "        * k-Consistency\n",
    "    * Topological Sort & Tree CSP Solver\n",
    "        * Cutset Conditioning\n",
    "        * Tree Decomposition"
   ]
  },
  {
   "cell_type": "markdown",
   "metadata": {
    "slideshow": {
     "slide_type": "slide"
    }
   },
   "source": [
    "<h1><center>Chapter 6: Constraint Satisfaction Problems</center></h1>\n",
    "\n",
    "<h3><center>CSP</center></h3>\n",
    "\n",
    "<h7><center>\"In which we see how treating states as more than just little black boxes leads to the invention of a range of powerful new search methods and a deeper understanding of problem structure and complexity.\"</center></h7>"
   ]
  },
  {
   "cell_type": "markdown",
   "metadata": {
    "slideshow": {
     "slide_type": "slide"
    }
   },
   "source": [
    "<h1><center>From Chapter 2: Factored Representation of States</center></h1>\n",
    "\n",
    "<center><img src=\"img/fig-2-16.png\" align=\"center\"/></center>\n",
    "\n",
    "<font size=1> Image from Russel & Norvig Textbook</font>"
   ]
  },
  {
   "cell_type": "markdown",
   "metadata": {
    "slideshow": {
     "slide_type": "slide"
    }
   },
   "source": [
    "<h1><center>Definition of CSP</center></h1>\n",
    "\n",
    "  * $X$ is a set of variables $\\{X_1, X_2, ... X_n\\}$\n",
    "  \n",
    "  \n",
    "  * $D$ is a set of domains $\\{D_1, D_2, ... D_n\\}$, one for each variable\n",
    "  \n",
    "  \n",
    "  * Each domain $D_i$ consists of a set of allowable values $\\{v_1, v_2, ... v_k\\}$\n",
    "  \n",
    "  \n",
    "  * $C$ is a set of constraints $\\{C_1, C_2, ... C_m\\}$ that specify allowable combinations of values\n",
    "  \n",
    "  \n",
    "  * **Solution**: assignment of values to all variables (**complete** assignment) such that no constraint is violated (**consistent** assignment).\n",
    "  \n",
    "  \n",
    "  * A solution must be a <b>complete</b> and <b>consistent</b> assignment."
   ]
  },
  {
   "cell_type": "markdown",
   "metadata": {
    "slideshow": {
     "slide_type": "slide"
    }
   },
   "source": [
    "<h1><center>CSP Example: Map Coloring</center></h1>\n",
    "\n",
    "<center><img src=\"img/map-color.jpg\" align=\"center\"/></center>\n",
    "\n",
    "<font size=1>From Russel & Norvig Textbook</font>"
   ]
  },
  {
   "cell_type": "markdown",
   "metadata": {
    "slideshow": {
     "slide_type": "slide"
    }
   },
   "source": [
    "<h1><center>CSP Example: Map Coloring</center></h1>\n",
    "\n",
    "* $X$ is a set of variables $\\{{WA}, {NT}, Q, {NSW}, V, {SA}, T\\}$\n",
    "* $D$ is a set of domains $\\{D_{WA}, D_{NT}, D_Q, D_{NSW}, D_V, D_{SA}, D_T\\}$, one for each variable\n",
    "* Each domain $D_i$ consists of a set of allowable values $\\{red, green, blue\\}$\n",
    "* $C$ is a set of constraints $\\{SA\\neq {WA}, SA\\neq NT, SA\\neq Q, SA\\neq NSW, SA\\neq V, WA\\neq NT, NT\\neq Q, Q\\neq NSW, NSW\\neq V\\}$ that specify allowable combinations of of values\n",
    "\n",
    "* One example solution: $\\{{WA} = red, {NT}=green, Q=red, {NSW}=green, V=red, {SA}=blue, T=green \\}$"
   ]
  },
  {
   "cell_type": "markdown",
   "metadata": {
    "slideshow": {
     "slide_type": "slide"
    }
   },
   "source": [
    "<h1><center>Why CSP?</center></h1>\n",
    "\n",
    "- <font color=\"blue\"><b>Brute forcing</b></font> means trial and error on all possible configurations and is a costly strategy.\n",
    "\n",
    "\n",
    "- CSP provides a natural representation for a wide variety of problems such as 8-queens, map coloring, job scheduling, course assignment, etc. \n",
    "\n",
    "\n",
    "- CSP solvers can be faster than state-space searchers because the CSP solver can quickly eliminate large swatches of the search space.\n",
    "\n",
    "\n",
    "- For map coloring of Australia map without CSP, we have to consider $3^5 = 243$ assignments for the five neighboring variables; with CSP however, we have only $2^5=32$ assignments to look at, a reduction of $87\\%$!"
   ]
  },
  {
   "cell_type": "markdown",
   "metadata": {
    "slideshow": {
     "slide_type": "slide"
    }
   },
   "source": [
    "<h1><center>Why CSP?</center></h1>\n",
    "\n",
    "- With $n$ variables where each can have one of 3 values, there are $3^n$ possible assignments to check.\n",
    "\n",
    "- Consider map coloring of the world map with 190 countries with 4 colors. There are $4^{190}$ assignments!\n",
    "\n",
    "- How big is this number? $4^{190}$"
   ]
  },
  {
   "cell_type": "markdown",
   "metadata": {
    "slideshow": {
     "slide_type": "fragment"
    }
   },
   "source": [
    "$4^{190}$ has 115 digits: 2462625387274654950767440006258975862817483704404090416746768337765357610718575663213391640930307227550414249394176L"
   ]
  },
  {
   "cell_type": "markdown",
   "metadata": {
    "slideshow": {
     "slide_type": "slide"
    }
   },
   "source": [
    "<h1><center>Cryptharithmetic Puzzles</center></h1>\n",
    "\n",
    "<center><img src=\"img/fig-6-2.png\" align=\"center\"/></center>\n",
    "\n",
    "<font size=1>Image from Russel & Norvig textbook</font>"
   ]
  },
  {
   "cell_type": "markdown",
   "metadata": {
    "slideshow": {
     "slide_type": "slide"
    }
   },
   "source": [
    "<h1><center>CSP Example: 8-Queens</center></h1>\n",
    "\n",
    "- Place 8 queens on a chess board such that none is attacking another.\n",
    "\n",
    "- $8^8$ is 16,777,216\n",
    "\n",
    "<center><img src=\"img/8queens.png\" align=\"center\"/></center>\n",
    "\n",
    "<font size=1>Image from Russel & Norvig textbook</font>"
   ]
  },
  {
   "cell_type": "markdown",
   "metadata": {
    "slideshow": {
     "slide_type": "slide"
    }
   },
   "source": [
    "<h1><center>CSP Example: 8-Queens</center></h1>\n",
    "\n",
    "- After placing these two queens, it’s trivial to mark the squares we can no longer use.\n",
    "\n",
    "<center><img src=\"img/8queens-1.png\" align=\"center\"/></center>\n",
    "\n",
    "<font size=1>Image from Dr. Finin's Slides</font>"
   ]
  },
  {
   "cell_type": "markdown",
   "metadata": {
    "slideshow": {
     "slide_type": "slide"
    }
   },
   "source": [
    "<h1><center>CSP Example: 8-Queens - Constraint Propagation</center></h1>\n",
    "\n",
    "<center><img src=\"img/8queens-2.png\" align=\"center\"/></center>\n",
    "\n",
    "<font size=1>Image from Dr. Finin's Slides</font>"
   ]
  },
  {
   "cell_type": "markdown",
   "metadata": {
    "slideshow": {
     "slide_type": "slide"
    }
   },
   "source": [
    "<h1><center>CSP Example: 8-Queens</center></h1>\n",
    "\n",
    "- Eight variables $Q_i$, $i = \\{1..8\\}$ where $Q_i$ is the row number of queen in column $i$"
   ]
  },
  {
   "cell_type": "markdown",
   "metadata": {
    "slideshow": {
     "slide_type": "fragment"
    }
   },
   "source": [
    "- Domain for each variable $\\{1,2,...,8\\}$"
   ]
  },
  {
   "cell_type": "markdown",
   "metadata": {
    "slideshow": {
     "slide_type": "fragment"
    }
   },
   "source": [
    "- Constraints are of the forms: No queens on the same row. How do you write this constraint as a logical expression?"
   ]
  },
  {
   "cell_type": "markdown",
   "metadata": {
    "slideshow": {
     "slide_type": "fragment"
    }
   },
   "source": [
    "$Q_i=k \\implies Qj\\neq k$ $ \\quad for j = \\{1..8, j\\neq i\\}$"
   ]
  },
  {
   "cell_type": "markdown",
   "metadata": {
    "slideshow": {
     "slide_type": "fragment"
    }
   },
   "source": [
    "- No queens on same diagonal. Can you write this constraint with a 1-line logical expression?"
   ]
  },
  {
   "cell_type": "markdown",
   "metadata": {
    "slideshow": {
     "slide_type": "fragment"
    }
   },
   "source": [
    "$Q_i=row_i, Qj=row_j \\implies |{i-j}|\\neq |{row_i - row_j}| \\quad for j = \\{1..8\\}, j\\neq i$"
   ]
  },
  {
   "cell_type": "markdown",
   "metadata": {
    "slideshow": {
     "slide_type": "slide"
    }
   },
   "source": [
    "<h1><center>Solving 8-Queens - Min-Conflicts Heuristic</center></h1>\n",
    "\n",
    "<center><img src=\"img/fig-6-8.png\" align=\"center\"/></center>\n",
    "\n",
    "<font size=1>Image from Russel & Norvig textbook</font>"
   ]
  },
  {
   "cell_type": "markdown",
   "metadata": {
    "slideshow": {
     "slide_type": "slide"
    }
   },
   "source": [
    "<h1><center>Min-Conflicts Algorithm</center></h1>\n",
    "\n",
    "<center><img src=\"img/fig-6-9.png\" align=\"center\"/></center>\n",
    "\n",
    "<font size=1>Image from Russel & Norvig textbook</font>"
   ]
  },
  {
   "cell_type": "markdown",
   "metadata": {
    "slideshow": {
     "slide_type": "slide"
    }
   },
   "source": [
    "<h1><center>Solving CSP - Backtracking</center></h1>\n",
    "\n",
    "- Applies a standard DFS\n",
    "\n",
    "- A state would be a prtial assignment, and an action would be adding `var = value` to the assignment.\n",
    "\n",
    "- Chooses values for one variable at a time and backtracks when a variable has no legal values letf to assign.\n",
    "\n",
    "- Returns a solution or a failure."
   ]
  },
  {
   "cell_type": "markdown",
   "metadata": {
    "slideshow": {
     "slide_type": "slide"
    }
   },
   "source": [
    "<h1><center>Backtracking Algorithm</center></h1>\n",
    "\n",
    "<center><img src=\"img/fig-6-5.png\" align=\"center\"/></center>\n",
    "\n",
    "<font size=1>From Russel & Norvig Textbook</font>"
   ]
  },
  {
   "cell_type": "markdown",
   "metadata": {
    "slideshow": {
     "slide_type": "slide"
    }
   },
   "source": [
    "<h1><center>Solving CSP - Backtracking Example</center></h1>\n",
    "\n",
    "<center><img src=\"img/backtracking-1.png\" align=\"center\"/></center>"
   ]
  },
  {
   "cell_type": "markdown",
   "metadata": {
    "slideshow": {
     "slide_type": "slide"
    }
   },
   "source": [
    "<h1><center>Solving CSP - Backtracking Example</center></h1>\n",
    "\n",
    "<center><img src=\"img/backtracking-2.png\" align=\"center\"/></center>"
   ]
  },
  {
   "cell_type": "markdown",
   "metadata": {
    "slideshow": {
     "slide_type": "slide"
    }
   },
   "source": [
    "<h1><center>Solving CSP - Backtracking Example</center></h1>\n",
    "\n",
    "<center><img src=\"img/backtracking-3.png\" align=\"center\"/></center>"
   ]
  },
  {
   "cell_type": "markdown",
   "metadata": {
    "slideshow": {
     "slide_type": "slide"
    }
   },
   "source": [
    "<h1><center>Solving CSP - Backtracking Example</center></h1>\n",
    "\n",
    "<center><img src=\"img/backtracking-4.png\" align=\"center\"/></center>"
   ]
  },
  {
   "cell_type": "markdown",
   "metadata": {
    "slideshow": {
     "slide_type": "slide"
    }
   },
   "source": [
    "<h1><center>Solving CSP - Backtracking Example</center></h1>\n",
    "\n",
    "<center><img src=\"img/backtracking-5.png\" align=\"center\"/></center>"
   ]
  },
  {
   "cell_type": "markdown",
   "metadata": {
    "slideshow": {
     "slide_type": "slide"
    }
   },
   "source": [
    "<h1><center>Solving CSP - Backtracking Example</center></h1>\n",
    "\n",
    "<center><img src=\"img/backtracking-5.png\" align=\"center\"/></center>"
   ]
  },
  {
   "cell_type": "markdown",
   "metadata": {
    "slideshow": {
     "slide_type": "slide"
    }
   },
   "source": [
    "<h1><center>Improving Backtracking Efficiency</center></h1>\n",
    "\n",
    "Here are some standard techniques to improve the efficiency of backtracking:\n",
    "\n",
    "- Can we detect inevitable failure early? <b>Forward checking</b>.\n",
    "\n",
    "\n",
    "- Which variable should be assigned next? <b>Most constrained variable (aka Mimimum Remianing Values or MRV) & Most constraining variable</b>.\n",
    "\n",
    "\n",
    "- In what order should its values be tried? <b>Least constraining value</b>."
   ]
  },
  {
   "cell_type": "markdown",
   "metadata": {
    "slideshow": {
     "slide_type": "slide"
    }
   },
   "source": [
    "<h1><center>Forward Checking</center></h1>\n",
    "\n",
    "- Keep track of remaining legal values for unassigned variables.\n",
    "\n",
    "\n",
    "- Terminate search when any variable has no legal values.\n",
    "\n",
    "\n",
    "- After variable $X$ is assigned to value $v$, examine each unassigned variable $Y$ connected to $X$ by a constraint and delete values from $Y$’s domain inconsistent with $v$."
   ]
  },
  {
   "cell_type": "markdown",
   "metadata": {
    "slideshow": {
     "slide_type": "slide"
    }
   },
   "source": [
    "<h1><center>Forward Checking Example</center></h1>\n",
    "\n",
    "<center><img src=\"img/forward-checking-1.png\" align=\"center\"/></center>"
   ]
  },
  {
   "cell_type": "markdown",
   "metadata": {
    "slideshow": {
     "slide_type": "slide"
    }
   },
   "source": [
    "<h1><center>Forward Checking Example</center></h1>\n",
    "\n",
    "<center><img src=\"img/forward-checking-2.png\" align=\"center\"/></center>"
   ]
  },
  {
   "cell_type": "markdown",
   "metadata": {
    "slideshow": {
     "slide_type": "slide"
    }
   },
   "source": [
    "<h1><center>Forward Checking Example</center></h1>\n",
    "\n",
    "<center><img src=\"img/forward-checking-3.png\" align=\"center\"/></center>"
   ]
  },
  {
   "cell_type": "markdown",
   "metadata": {
    "slideshow": {
     "slide_type": "slide"
    }
   },
   "source": [
    "<h1><center>Forward Checking Example</center></h1>\n",
    "\n",
    "<center><img src=\"img/forward-checking-4.png\" align=\"center\"/></center>"
   ]
  },
  {
   "cell_type": "markdown",
   "metadata": {
    "slideshow": {
     "slide_type": "slide"
    }
   },
   "source": [
    "<h1><center>Most Constrained Variable</center></h1>\n",
    "\n",
    "<center><img src=\"img/MRV.png\"></center>\n",
    "\n",
    "\n",
    "- Choose the variable with the fewest legal values.\n",
    "\n",
    "\n",
    "- a.k.a. Minimum Remaining Values (<b>MRV</b>) heuristic.\n",
    "\n",
    "\n",
    "- After assigning value to WA, both NT and SA have only two values in their domains – choose one of them rather than Q, NSW, V or T"
   ]
  },
  {
   "cell_type": "markdown",
   "metadata": {
    "slideshow": {
     "slide_type": "slide"
    }
   },
   "source": [
    "<h1><center>Most Constraining Variable</center></h1>\n",
    "\n",
    "<center><img src=\"img/MCV.png\"></center>\n",
    "\n",
    "\n",
    "- Tie-breaker among most constrained variables.\n",
    "\n",
    "\n",
    "- Choose variable involved in largest # of constraints on remaining variables.\n",
    "\n",
    "\n",
    "- After assigning SA to be blue, WA, NT, Q, NSW and V all have just two values left.\n",
    "\n",
    "\n",
    "- WA and V have only one constraint on remaining variables and T none, so choose one of NT, Q & NSW"
   ]
  },
  {
   "cell_type": "markdown",
   "metadata": {
    "slideshow": {
     "slide_type": "slide"
    }
   },
   "source": [
    "<h1><center>Least Constraining Values</center></h1>\n",
    "\n",
    "<center><img src=\"img/LCV.png\"></center>\n",
    "\n",
    "- Given a variable, choose least constraining value – the one that rules out the fewest values in the remaining variables.\n",
    "\n",
    "- In this example, choose value $red$ instead of $blue$ for Q, because choosing $blue$ for Q would leave no value left for SA"
   ]
  },
  {
   "cell_type": "markdown",
   "metadata": {
    "slideshow": {
     "slide_type": "slide"
    }
   },
   "source": [
    "<h1><center>Constraint Propagation and Local Consistency</center></h1>\n",
    "\n",
    "- **Constraint propagation**: a specific type of inference using the constraints to reduce the number of legal values for a variable, which in turn can reduce the legal values for another variable, and so on.\n",
    "\n",
    "\n",
    "- Constraint propagation may be intertwined with search, or it may be done as a preprocessing step, before search starts, and sometimes this preprocessing can solve the whole problem, so no search is required at all.\n",
    "\n",
    "\n",
    "- The key idea is **local consistency**. If we treat each variable as a node in a graph and each binary constraint as an edge, then the process of enforcing local consistency in each part of the graph causes inconsistent values to be eliminated throughout the graph."
   ]
  },
  {
   "cell_type": "markdown",
   "metadata": {
    "slideshow": {
     "slide_type": "slide"
    }
   },
   "source": [
    "<h1><center>Local Consistency</center></h1>\n",
    "\n",
    "- Local consistency may help to solve the problem, or may help to infer that there can be no solution to the problem.\n",
    "\n",
    "\n",
    "- There are different types of local consistency:\n",
    "    - Node consistency\n",
    "    - Arc consistency\n",
    "    - Path consistency\n",
    "    - k-consistency"
   ]
  },
  {
   "cell_type": "markdown",
   "metadata": {
    "slideshow": {
     "slide_type": "slide"
    }
   },
   "source": [
    "<h1><center>Node Consistency - Definition</center></h1>\n",
    "\n",
    "- A single variable (corresponding to a node in the CSP graph) is node-consistent if all the values in the variable's domain satisfy the variable's unary constraints.\n",
    "\n",
    "\n",
    "- It's easy to eliminate all the unary constraints in a CSP by reducing the domain of variables with unary constraints at the start of the solving process."
   ]
  },
  {
   "cell_type": "markdown",
   "metadata": {
    "slideshow": {
     "slide_type": "slide"
    }
   },
   "source": [
    "<h1><center>Arc Consistency - Definition</center></h1>\n",
    "\n",
    "- A constraint C_xy is arc consistent w.r.t. x if for each value $v$ in the domain of x, there is an allowed value of y\n",
    "\n",
    "\n",
    "- Similarly, define C_xy as arc consistent w.r.t. y\n",
    "\n",
    "\n",
    "- Binary CSP is arc consistent iff every constraint C_xy is arc consistent w.r.t. x as well as y\n",
    "\n",
    "\n",
    "- When a CSP is not arc consistent, we might be able to make it arc consistent by using the AC3 algorithm – also called enforcing arc consistency.\n",
    "\n",
    "\n",
    "- Like backtracking, there is no guarantee for AC3 to find a consistent solution."
   ]
  },
  {
   "cell_type": "markdown",
   "metadata": {
    "slideshow": {
     "slide_type": "slide"
    }
   },
   "source": [
    "<h1><center>Arc Consistency - Example 1</center></h1>\n",
    "\n",
    "<center><img src=\"img/arc-consistency.png\"></center>\n",
    "\n",
    "- Domains:\n",
    "- $D_x = \\{1, 2, 3\\}$\n",
    "\n",
    "- $D_y = \\{3, 4, 5, 6\\}$\n",
    "\n",
    "- Constraint: C_xy $= \\{(1,3), (1,5), (3,3), (3,6)\\}$\n",
    "\n",
    "- Note: for finite domains, we can represent a constraint as a set of legal value pairs (tuples).\n",
    "\n",
    "- Is C_xy arc consistent w.r.t. x? How about w.r.t. to y?"
   ]
  },
  {
   "cell_type": "markdown",
   "metadata": {
    "slideshow": {
     "slide_type": "fragment"
    }
   },
   "source": [
    "- C_xy is NOT arc consistent w.r.t. neither x nor y. However, By enforcing arc consistency, we get reduced domains that make it arc consistent:\n",
    "\n",
    "\n",
    "- $D'_x = \\{1, 3\\}$\n",
    "- $D'_y=\\{3, 5, 6\\}$"
   ]
  },
  {
   "cell_type": "markdown",
   "metadata": {
    "slideshow": {
     "slide_type": "slide"
    }
   },
   "source": [
    "<h1><center>Arc Consistency - Example 2</center></h1>\n",
    "\n",
    "<center><img src=\"img/arc-consistency.png\"></center>\n",
    "\n",
    "- Domains:\n",
    "- $D_x = \\{1, 2, 3\\}$\n",
    "\n",
    "- $D_y = \\{1, 2, 3\\}$\n",
    "\n",
    "- Constraint: C_xy `= lambda v1,v2: v1 < v2`\n",
    "\n",
    "- Note: `lambda` is a Python anonymous function.\n",
    "\n",
    "- Is C_xy arc consistent w.r.t. x? How about w.r.t. to y?"
   ]
  },
  {
   "cell_type": "markdown",
   "metadata": {
    "slideshow": {
     "slide_type": "fragment"
    }
   },
   "source": [
    "- C_xy is NOT arc consistent w.r.t. neither x nor y because:\n",
    "    - For x=3, there is no value in the domain of y such that x < y\n",
    "    - For y=1, there is no value in the domain of x such that x < y"
   ]
  },
  {
   "cell_type": "code",
   "execution_count": 2,
   "metadata": {
    "slideshow": {
     "slide_type": "slide"
    }
   },
   "outputs": [
    {
     "name": "stdout",
     "output_type": "stream",
     "text": [
      "True\n",
      "False\n"
     ]
    }
   ],
   "source": [
    "# Representing a CSP constraint using Python lambda function\n",
    "\n",
    "C_xy = lambda x,y: x < y\n",
    "\n",
    "print(C_xy(1,2))\n",
    "\n",
    "print(C_xy(2,1))"
   ]
  },
  {
   "cell_type": "code",
   "execution_count": 2,
   "metadata": {
    "slideshow": {
     "slide_type": "slide"
    }
   },
   "outputs": [
    {
     "data": {
      "text/plain": [
       "[{'x': 2, 'y': 3}, {'x': 1, 'y': 2}, {'x': 1, 'y': 3}]"
      ]
     },
     "execution_count": 2,
     "metadata": {},
     "output_type": "execute_result"
    }
   ],
   "source": [
    "# Python CSP module - https://github.com/python-constraint/python-constraint\n",
    "\n",
    "from constraint import *\n",
    "\n",
    "problem = Problem()\n",
    "problem.addVariable(\"x\", [1,2,3])\n",
    "problem.addVariable(\"y\", [1,2,3])\n",
    "\n",
    "problem.addConstraint(lambda x, y: x < y, (\"x\", \"y\"))\n",
    "\n",
    "# You can see in the solution that the constraint is NOT \"arc-consistent\" w.r.t. to x and y because:\n",
    "# There is no assignment for x=3\n",
    "# There is no assignment for y=1\n",
    "\n",
    "# Notice, however, that it's still a solution because:\n",
    "# 1- All variables have got values.\n",
    "# 2- No assignment violates the constraint.\n",
    "problem.getSolutions()"
   ]
  },
  {
   "cell_type": "code",
   "execution_count": 3,
   "metadata": {
    "slideshow": {
     "slide_type": "slide"
    }
   },
   "outputs": [
    {
     "data": {
      "text/plain": [
       "[{'a': 3, 'b': 6}, {'a': 2, 'b': 4}]"
      ]
     },
     "execution_count": 3,
     "metadata": {},
     "output_type": "execute_result"
    }
   ],
   "source": [
    "problem = Problem()\n",
    "problem.addVariable(\"a\", [1,2,3])\n",
    "problem.addVariable(\"b\", [4,5,6])\n",
    "\n",
    "# The constraint is 2*a = b\n",
    "problem.addConstraint(lambda a, b: 2*a == b, (\"a\", \"b\"))\n",
    "\n",
    "problem.getSolutions()"
   ]
  },
  {
   "cell_type": "code",
   "execution_count": 5,
   "metadata": {
    "slideshow": {
     "slide_type": "slide"
    }
   },
   "outputs": [
    {
     "data": {
      "text/plain": [
       "[{'a': 3, 'b': 2},\n",
       " {'a': 3, 'b': 1},\n",
       " {'a': 2, 'b': 3},\n",
       " {'a': 2, 'b': 1},\n",
       " {'a': 1, 'b': 2},\n",
       " {'a': 1, 'b': 3}]"
      ]
     },
     "execution_count": 5,
     "metadata": {},
     "output_type": "execute_result"
    }
   ],
   "source": [
    "problem = Problem()\n",
    "problem.addVariables([\"a\", \"b\"], [1, 2, 3])\n",
    "\n",
    "# AllDifferentConstraint Example\n",
    "problem.addConstraint(AllDifferentConstraint())\n",
    "problem.getSolutions()"
   ]
  },
  {
   "cell_type": "markdown",
   "metadata": {
    "slideshow": {
     "slide_type": "slide"
    }
   },
   "source": [
    "<h1><center>Arc Consistency - AC3 Algorithm</center></h1>\n",
    "\n",
    "<center><img src=\"img/fig-6-3.png\"></center>\n",
    "\n",
    "<font size=1>Image from Russel & Norvig textbook</font>"
   ]
  },
  {
   "cell_type": "markdown",
   "metadata": {
    "slideshow": {
     "slide_type": "slide"
    }
   },
   "source": [
    "<h1><center>Path Consistency - Definition</center></h1>\n",
    "\n",
    "- Arc consistency tightens down the domains (unary constraints) using the arcs (binary constraints). To make progress on problems like map coloring, we need a stronger notion of consistency.\n",
    "\n",
    "\n",
    "- **Path consistency** tightens the binary constraints by using implicit constraints that are inferred by looking at triples of variables.\n",
    "\n",
    "\n",
    "- A two-variable set $\\{X_i, X_j\\}$ is path-consistent with respect to a third variable $X_m$ if, for every assignment $\\{X_i = a, X_j = b\\}$ consistent with the constraints (if any) on $\\{X_i, X_j\\}$, there is an assignment to $X_m$ that satisfies the constraints on $\\{X_i, X_m\\}$ and $\\{X_m, X_j\\}$\n",
    "\n",
    "\n",
    "- The name refers to the overall consistency of the path from $X_i$ to $X_j$ with $X_m$ in the middle."
   ]
  },
  {
   "cell_type": "markdown",
   "metadata": {
    "slideshow": {
     "slide_type": "slide"
    }
   },
   "source": [
    "<h1><center>k-Consistency - Definition</center></h1>\n",
    "\n",
    "- Stronger forms of propagation can be defined with the notion of **k-consistency**.\n",
    "\n",
    "\n",
    "- A CSP is k-consistent if, for any set of k-1 variables and for any consistent assignment to those variables, a consistent value can always be assigned to any kth variable.\n",
    "\n",
    "\n",
    "- **1-consistency** says that, given the empty set, we can make any set of one variable consistent--- we call this **node consistency**.\n",
    "\n",
    "\n",
    "- **2-consistency** is the same as **arc consistency**.\n",
    "\n",
    "\n",
    "- **3-consistency** for binary constraint graphs is the same as **path consistency**.\n",
    "\n",
    "\n",
    "- A CSP is **strongly k-consistent** if it is k-consistent and is also (k-1)-consistent, (k-2)-consistent, ... all the way down to 1-consistent."
   ]
  },
  {
   "cell_type": "markdown",
   "metadata": {
    "slideshow": {
     "slide_type": "slide"
    }
   },
   "source": [
    "<h1><center>Solving CSP for k-Consistent Problem</center></h1>\n",
    "\n",
    "- Suppose we have a CSP with n nodes and make it **strongly n-consistent**---i.e. strongly k-consistent for k=n.\n",
    "\n",
    "\n",
    "- First, we choose a consistent value for $X_1$.\n",
    "\n",
    "\n",
    "- We are then guaranteed to be able to choose a value for $X_2$ because the graph is 2-consistent, for $X_3$ because it is 3-consistent, and so on.\n",
    "\n",
    "\n",
    "- For each variable $X_i$ we need only search through the $d$ values in the domain to find a value consistent with $X_1, ..., X_{i-1}$\n",
    "\n",
    "\n",
    "- The total runtime is only $O(n^2d)$"
   ]
  },
  {
   "cell_type": "markdown",
   "metadata": {
    "slideshow": {
     "slide_type": "slide"
    }
   },
   "source": [
    "<h1><center>The Structure of Problems</center></h1>\n",
    "\n",
    "- Sometimes solving **independent subproblems** is easier--- any solution for each of the subproblems combined (union) with the solution for other subproblems yields a solution for the whole problem.\n",
    "\n",
    "\n",
    "- Completely independent subproblems are rare. Fortunately, some other graph structures are also easy to solve. For example, a constraint graph is a **tree** when any two variables are connected by only one path.\n",
    "\n",
    "\n",
    "- Any tree-structured CSP can be solved in time linear in the number of variables. \n",
    "\n",
    "\n",
    "- The key is a new notion of consistency called **directional arc consistency** or DAC.\n",
    "\n",
    "\n",
    "- A CSP is defined to be DAC under an orderingof variables $X_1, X_2, ..., X_N$ if and only if every $X_i$ is arc-consistent with each $X_j$ for $j>i$"
   ]
  },
  {
   "cell_type": "markdown",
   "metadata": {
    "slideshow": {
     "slide_type": "slide"
    }
   },
   "source": [
    "<h1><center>Topological Sort</center></h1>\n",
    "\n",
    "- To solve a tree-structured CSP, first pick any variable to be the root of the tree, and choose an ordering of the variables such that each variable appears after its parent in the tree.\n",
    "\n",
    "\n",
    "- Such an ordering is called a **topological sort**.\n",
    "\n",
    "<center><img src=\"img/fig-6-10.png\"></center>\n",
    "\n",
    "<font size=1>Image from Russel & Norvig textbook</font>"
   ]
  },
  {
   "cell_type": "markdown",
   "metadata": {
    "slideshow": {
     "slide_type": "slide"
    }
   },
   "source": [
    "<h1><center>Tree CSP Solver</center></h1>\n",
    "\n",
    "<center><img src=\"img/fig-6-11.png\"></center>\n",
    "\n",
    "<font size=1>Image from Russel & Norvig textbook</font>"
   ]
  },
  {
   "cell_type": "markdown",
   "metadata": {
    "slideshow": {
     "slide_type": "slide"
    }
   },
   "source": [
    "<h1><center>Reducing Constraint Graph to Trees</center></h1>\n",
    "\n",
    "- There are two ways to reduce constraint graphs to trees:\n",
    "    - Removing nodes: **Cutset conditioning**\n",
    "    - Collapsing nodes: **Tree decomposition**"
   ]
  },
  {
   "cell_type": "markdown",
   "metadata": {
    "slideshow": {
     "slide_type": "slide"
    }
   },
   "source": [
    "<h1><center>Cutset Conditioning</center></h1>\n",
    "\n",
    "- The general algorithm for cutset conditiong is as follows:\n",
    "    - Choose a subset $S$ of the CSP's variables such that the constraint graph becomes a tree after removal of $S$--- $S$ is called a **cycle cutset**.\n",
    "    - For each possible assignment to the variables in $S$ that satisfies all constraints on $S$:\n",
    "        - remove from the domains of the remaining variables any values that are inconsistent with the assignment of $S$, and\n",
    "        - if the remaining CSP has a solution, return it together with the assignment for $S$.\n",
    "\n",
    "<center><img src=\"img/fig-6-12.png\"></center>\n",
    "\n",
    "<font size=1>Image from Russel & Norvig textbook</font>"
   ]
  },
  {
   "cell_type": "markdown",
   "metadata": {
    "slideshow": {
     "slide_type": "slide"
    }
   },
   "source": [
    "<h1><center>Tree Decomposition</center></h1>\n",
    "\n",
    "- The second way to reduce a constraint graph to a tree is based on constructing a **tree decomposition** of the constraint graph--- a transformation of the original graph into a tree where each node in the tree consists of a set of variables (as shown in the next slide).\n",
    "\n",
    "\n",
    "- A tree decomposition must satisfy these three requirements:\n",
    "    - Every variable in the original problem appears in at least one of the tree nodes.\n",
    "    - If two variables are connected by a constraint in the original problem, they must appear together (along with the constraint) in at least one of the tree nodes.\n",
    "    - If a variable appears in two nodes in the tree, it must appear in every node along the path connecting those nodes."
   ]
  },
  {
   "cell_type": "markdown",
   "metadata": {
    "slideshow": {
     "slide_type": "slide"
    }
   },
   "source": [
    "<h1><center>Tree Decomposition</center></h1>\n",
    "\n",
    "<center><img src=\"img/fig-6-13.png\"></center>\n",
    "\n",
    "<font size=1>Image from Russel & Norvig textbook</font>"
   ]
  },
  {
   "cell_type": "markdown",
   "metadata": {
    "slideshow": {
     "slide_type": "slide"
    }
   },
   "source": [
    "<h1><center>CSP Summary</center></h1>\n",
    "\n",
    "- CSP problems are defined with variables, domains and constraints.\n",
    "\n",
    "\n",
    "- CSP solution is a complete and consistent assignment of values to ALL variables such that no constraint is violated.\n",
    "\n",
    "\n",
    "- Backtracking is a CSP solver. Backtracking failures can be detected early using Forward Checking.\n",
    "\n",
    "\n",
    "- Backtracking can be made more efficient using heuristics on choosing variables and values: MRV, MCV, and LCV.\n",
    "\n",
    "\n",
    "- Local Consistency:\n",
    "    - Node consistency\n",
    "    - Arc consistency & AC3 Algorithm\n",
    "    - Path consistency\n",
    "    - k-consistency\n",
    "\n",
    "\n",
    "- The structure of problems: Topological Sort, Cutset Conditioning, Tree Decomposition"
   ]
  },
  {
   "cell_type": "markdown",
   "metadata": {
    "slideshow": {
     "slide_type": "notes"
    }
   },
   "source": [
    "<h1><center>Credit</center></h1>\n",
    "\n",
    "Some texts in the slides are directly quoted from AIMA textbook by Russel & Norvig."
   ]
  }
 ],
 "metadata": {
  "celltoolbar": "Slideshow",
  "kernelspec": {
   "display_name": "Python 3",
   "language": "python",
   "name": "python3"
  },
  "language_info": {
   "codemirror_mode": {
    "name": "ipython",
    "version": 3
   },
   "file_extension": ".py",
   "mimetype": "text/x-python",
   "name": "python",
   "nbconvert_exporter": "python",
   "pygments_lexer": "ipython3",
   "version": "3.7.3"
  }
 },
 "nbformat": 4,
 "nbformat_minor": 2
}
